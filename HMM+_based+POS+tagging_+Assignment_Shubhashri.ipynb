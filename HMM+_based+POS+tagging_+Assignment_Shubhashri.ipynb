{
  "nbformat": 4,
  "nbformat_minor": 0,
  "metadata": {
    "kernelspec": {
      "display_name": "Python 3",
      "language": "python",
      "name": "python3"
    },
    "language_info": {
      "codemirror_mode": {
        "name": "ipython",
        "version": 3
      },
      "file_extension": ".py",
      "mimetype": "text/x-python",
      "name": "python",
      "nbconvert_exporter": "python",
      "pygments_lexer": "ipython3",
      "version": "3.6.4"
    },
    "colab": {
      "name": "HMM+-based+POS+tagging-+Assignment.ipynb",
      "provenance": [],
      "collapsed_sections": []
    }
  },
  "cells": [
    {
      "cell_type": "markdown",
      "metadata": {
        "id": "7-bklesVXuCQ"
      },
      "source": [
        "## POS tagging using modified Viterbi"
      ]
    },
    {
      "cell_type": "markdown",
      "metadata": {
        "id": "TyjKW2G0XuCS"
      },
      "source": [
        "### Data Preparation"
      ]
    },
    {
      "cell_type": "code",
      "metadata": {
        "id": "348VjhpgXuCT",
        "outputId": "5c5bb807-afad-455b-c5d9-d30518f3c61d",
        "colab": {
          "base_uri": "https://localhost:8080/"
        }
      },
      "source": [
        "#Importing libraries\n",
        "import nltk\n",
        "nltk.download('treebank')\n",
        "nltk.download('universal_tagset')\n",
        "\n",
        "\n",
        "import numpy as np\n",
        "import pandas as pd\n",
        "import matplotlib.pyplot as plt\n",
        "import time\n",
        "import re\n",
        "import random\n",
        "import seaborn as sns\n",
        "from sklearn.model_selection import train_test_split\n",
        "import pprint"
      ],
      "execution_count": 139,
      "outputs": [
        {
          "output_type": "stream",
          "text": [
            "[nltk_data] Downloading package treebank to /root/nltk_data...\n",
            "[nltk_data]   Package treebank is already up-to-date!\n",
            "[nltk_data] Downloading package universal_tagset to /root/nltk_data...\n",
            "[nltk_data]   Package universal_tagset is already up-to-date!\n"
          ],
          "name": "stdout"
        }
      ]
    },
    {
      "cell_type": "code",
      "metadata": {
        "id": "WHgnveogXuCa"
      },
      "source": [
        "# reading the Treebank tagged sentences\n",
        "nltk_data = list(nltk.corpus.treebank.tagged_sents(tagset='universal'))"
      ],
      "execution_count": 140,
      "outputs": []
    },
    {
      "cell_type": "code",
      "metadata": {
        "id": "fw7r5pSDXuCf",
        "outputId": "733cad1d-2233-4cc8-ce11-49e9172ec91e",
        "colab": {
          "base_uri": "https://localhost:8080/"
        }
      },
      "source": [
        "nltk_data[:3]"
      ],
      "execution_count": 141,
      "outputs": [
        {
          "output_type": "execute_result",
          "data": {
            "text/plain": [
              "[[('Pierre', 'NOUN'),\n",
              "  ('Vinken', 'NOUN'),\n",
              "  (',', '.'),\n",
              "  ('61', 'NUM'),\n",
              "  ('years', 'NOUN'),\n",
              "  ('old', 'ADJ'),\n",
              "  (',', '.'),\n",
              "  ('will', 'VERB'),\n",
              "  ('join', 'VERB'),\n",
              "  ('the', 'DET'),\n",
              "  ('board', 'NOUN'),\n",
              "  ('as', 'ADP'),\n",
              "  ('a', 'DET'),\n",
              "  ('nonexecutive', 'ADJ'),\n",
              "  ('director', 'NOUN'),\n",
              "  ('Nov.', 'NOUN'),\n",
              "  ('29', 'NUM'),\n",
              "  ('.', '.')],\n",
              " [('Mr.', 'NOUN'),\n",
              "  ('Vinken', 'NOUN'),\n",
              "  ('is', 'VERB'),\n",
              "  ('chairman', 'NOUN'),\n",
              "  ('of', 'ADP'),\n",
              "  ('Elsevier', 'NOUN'),\n",
              "  ('N.V.', 'NOUN'),\n",
              "  (',', '.'),\n",
              "  ('the', 'DET'),\n",
              "  ('Dutch', 'NOUN'),\n",
              "  ('publishing', 'VERB'),\n",
              "  ('group', 'NOUN'),\n",
              "  ('.', '.')],\n",
              " [('Rudolph', 'NOUN'),\n",
              "  ('Agnew', 'NOUN'),\n",
              "  (',', '.'),\n",
              "  ('55', 'NUM'),\n",
              "  ('years', 'NOUN'),\n",
              "  ('old', 'ADJ'),\n",
              "  ('and', 'CONJ'),\n",
              "  ('former', 'ADJ'),\n",
              "  ('chairman', 'NOUN'),\n",
              "  ('of', 'ADP'),\n",
              "  ('Consolidated', 'NOUN'),\n",
              "  ('Gold', 'NOUN'),\n",
              "  ('Fields', 'NOUN'),\n",
              "  ('PLC', 'NOUN'),\n",
              "  (',', '.'),\n",
              "  ('was', 'VERB'),\n",
              "  ('named', 'VERB'),\n",
              "  ('*-1', 'X'),\n",
              "  ('a', 'DET'),\n",
              "  ('nonexecutive', 'ADJ'),\n",
              "  ('director', 'NOUN'),\n",
              "  ('of', 'ADP'),\n",
              "  ('this', 'DET'),\n",
              "  ('British', 'ADJ'),\n",
              "  ('industrial', 'ADJ'),\n",
              "  ('conglomerate', 'NOUN'),\n",
              "  ('.', '.')]]"
            ]
          },
          "metadata": {
            "tags": []
          },
          "execution_count": 141
        }
      ]
    },
    {
      "cell_type": "code",
      "metadata": {
        "id": "vueoFuZKXuCl"
      },
      "source": [
        "# split data into training and validation set in the ratio 95:5\n",
        "\n",
        "train_set,test_set = train_test_split(nltk_data,train_size=0.95,test_size=0.05,random_state = 101)"
      ],
      "execution_count": 142,
      "outputs": []
    },
    {
      "cell_type": "code",
      "metadata": {
        "id": "BG1G_yKU-8VY",
        "outputId": "56a9f41a-bb15-4759-cdf3-4800408bead1",
        "colab": {
          "base_uri": "https://localhost:8080/"
        }
      },
      "source": [
        "# create list of train and test tagged words\n",
        "train_tagged_words = [tup for sent in train_set for tup in sent]\n",
        "test_tagged_words = [tup[0] for sent in test_set for tup in sent]\n",
        "print(len(train_tagged_words))\n",
        "print(len(test_tagged_words))"
      ],
      "execution_count": 143,
      "outputs": [
        {
          "output_type": "stream",
          "text": [
            "95547\n",
            "5129\n"
          ],
          "name": "stdout"
        }
      ]
    },
    {
      "cell_type": "code",
      "metadata": {
        "id": "jcD1AIZMEojV",
        "outputId": "83ab05f4-f9bd-445a-8a9f-ef96bfeba13f",
        "colab": {
          "base_uri": "https://localhost:8080/"
        }
      },
      "source": [
        "# Let's have a look at the tagged words in the training set\n",
        "\n",
        "train_tagged_words[:10]"
      ],
      "execution_count": 144,
      "outputs": [
        {
          "output_type": "execute_result",
          "data": {
            "text/plain": [
              "[('Reliance', 'NOUN'),\n",
              " ('confirmed', 'VERB'),\n",
              " ('the', 'DET'),\n",
              " ('filing', 'NOUN'),\n",
              " ('but', 'CONJ'),\n",
              " ('would', 'VERB'),\n",
              " (\"n't\", 'ADV'),\n",
              " ('elaborate', 'VERB'),\n",
              " ('.', '.'),\n",
              " ('*', 'X')]"
            ]
          },
          "metadata": {
            "tags": []
          },
          "execution_count": 144
        }
      ]
    },
    {
      "cell_type": "code",
      "metadata": {
        "id": "qggJHfkLEpDJ",
        "outputId": "3a5a8ae1-d7d5-4590-a1d2-b4ca319ce76f",
        "colab": {
          "base_uri": "https://localhost:8080/"
        }
      },
      "source": [
        "#looking at the tokens which were taged, from train_tagwords\n",
        "\n",
        "train_tokens = [pair[0] for pair in train_tagged_words]\n",
        "print(train_tokens[:10])\n",
        "\n",
        "print(\"\\n ---------------------------------------------------------------------------------------------------------------------------------------------------------------------- \\n\")\n",
        "\n",
        "#looking at POS tags for the tokens in training set \n",
        "\n",
        "train_pos_tags = [pair[1] for pair in train_tagged_words]\n",
        "print(train_pos_tags[:10])"
      ],
      "execution_count": 145,
      "outputs": [
        {
          "output_type": "stream",
          "text": [
            "['Reliance', 'confirmed', 'the', 'filing', 'but', 'would', \"n't\", 'elaborate', '.', '*']\n",
            "\n",
            " ---------------------------------------------------------------------------------------------------------------------------------------------------------------------- \n",
            "\n",
            "['NOUN', 'VERB', 'DET', 'NOUN', 'CONJ', 'VERB', 'ADV', 'VERB', '.', 'X']\n"
          ],
          "name": "stdout"
        }
      ]
    },
    {
      "cell_type": "code",
      "metadata": {
        "id": "z9uReQ_DEpRH"
      },
      "source": [
        "#creating a set of token owrd and pos tags\n",
        "\n",
        "train_vocab_set = set(train_tokens)\n",
        "train_pos_tag_set = set(train_pos_tags)"
      ],
      "execution_count": 146,
      "outputs": []
    },
    {
      "cell_type": "code",
      "metadata": {
        "id": "oFSLD6H2IKPW",
        "outputId": "3c512652-ce90-443a-9090-a0066960e306",
        "colab": {
          "base_uri": "https://localhost:8080/"
        }
      },
      "source": [
        "#To find out how many unique tags are present in training data \n",
        "tags = {tag for word,tag in train_tagged_words}\n",
        "\n",
        "print(\"Info:- \\nNumber of tags: {} \\nNumber of words in Vocabulary: {}\".format(len(train_pos_tag_set), len(train_vocab_set)))\n",
        "print(\"\\nThe tags available are :\\n\",train_pos_tag_set)"
      ],
      "execution_count": 147,
      "outputs": [
        {
          "output_type": "stream",
          "text": [
            "Info:- \n",
            "Number of tags: 12 \n",
            "Number of words in Vocabulary: 12100\n",
            "\n",
            "The tags available are :\n",
            " {'.', 'DET', 'NUM', 'ADP', 'CONJ', 'ADV', 'NOUN', 'ADJ', 'PRT', 'PRON', 'VERB', 'X'}\n"
          ],
          "name": "stdout"
        }
      ]
    },
    {
      "cell_type": "markdown",
      "metadata": {
        "id": "Larzp6VE3I92"
      },
      "source": [
        "## 2. POS Tagging Algorithm - HMM\n",
        "\n",
        "We'll use the HMM algorithm to tag the words. Given a sequence of words to be tagged, the task is to assign the most probable tag to the word. \n",
        "In other words, to every word w, assign the tag t that maximises the likelihood P(t/w). \n",
        "Since P(t/w) = P(w/t). P(t) / P(w), after ignoring P(w), we have to compute P(w/t) and P(t).\n",
        "\n",
        "\n",
        "- P(w/t) is emission probability of a word given a tag.\n",
        "  P(w/t) = count(w, t) / count(t). \n",
        "\n",
        "\n",
        "- P(t) is the probability of tag t given a previous tag. Its also called transition probability.\n"
      ]
    },
    {
      "cell_type": "code",
      "metadata": {
        "id": "smXkXEYwZZwF"
      },
      "source": [
        "# computing P(w/t) and storing in T x V matrix\n",
        "len_pos_tags = len(train_pos_tag_set)\n",
        "len_vocab = len(train_vocab_set)\n",
        "w_given_t = np.zeros((len_pos_tags, len_vocab))"
      ],
      "execution_count": 148,
      "outputs": []
    },
    {
      "cell_type": "code",
      "metadata": {
        "id": "3KeQ6N_iZbGK"
      },
      "source": [
        "#computing word given tag : i.e. Emission probability \n",
        "\n",
        "def word_given_tag(word, tag, train_bag = train_tagged_words):\n",
        "    tag_list = [pair for pair in train_bag if pair[1]==tag]\n",
        "    count_tag = len(tag_list)\n",
        "    w_given_tag_list = [pair[0] for pair in tag_list if pair[0]==word]\n",
        "    count_w_given_tag = len(w_given_tag_list)\n",
        "    \n",
        "    return (count_w_given_tag, count_tag)"
      ],
      "execution_count": 149,
      "outputs": []
    },
    {
      "cell_type": "code",
      "metadata": {
        "id": "MSh8rx7OIfHi"
      },
      "source": [
        "# compute tag given tag: tag2(t2) given tag1 (t1), i.e. Transition Probability\n",
        "\n",
        "def t2_given_t1(t2, t1, train_bag = train_tagged_words):\n",
        "    tags = [pair[1] for pair in train_bag]\n",
        "    count_t1 = len([t for t in tags if t==t1])\n",
        "    count_t2_t1 = 0\n",
        "    for index in range(len(tags)-1):\n",
        "        if tags[index]==t1 and tags[index+1] == t2:\n",
        "            count_t2_t1 += 1\n",
        "    return (count_t2_t1, count_t1)"
      ],
      "execution_count": 150,
      "outputs": []
    },
    {
      "cell_type": "code",
      "metadata": {
        "id": "mFUkgMONIk4g",
        "outputId": "e74fbda6-bea0-4bd3-f4ad-e48b30198909",
        "colab": {
          "base_uri": "https://localhost:8080/",
          "height": 409
        }
      },
      "source": [
        "# creating t x t transition matrix of tags\n",
        "# each column is t2, each row is t1\n",
        "# thus M(i, j) represents P(tj given ti)\n",
        "\n",
        "tags_matrix = np.zeros((len_pos_tags, len_pos_tags), dtype='float32')\n",
        "for i, t1 in enumerate(list(train_pos_tag_set)):\n",
        "    for j, t2 in enumerate(list(train_pos_tag_set)): \n",
        "        tags_matrix[i, j] = t2_given_t1(t2, t1)[0]/t2_given_t1(t2, t1)[1]\n",
        "\n",
        "\n",
        "\n",
        "#converting matrix to dataframe \n",
        "tags_df = pd.DataFrame(tags_matrix, columns = list(train_pos_tag_set), index=list(train_pos_tag_set))\n",
        "\n",
        "tags_df"
      ],
      "execution_count": 151,
      "outputs": [
        {
          "output_type": "execute_result",
          "data": {
            "text/html": [
              "<div>\n",
              "<style scoped>\n",
              "    .dataframe tbody tr th:only-of-type {\n",
              "        vertical-align: middle;\n",
              "    }\n",
              "\n",
              "    .dataframe tbody tr th {\n",
              "        vertical-align: top;\n",
              "    }\n",
              "\n",
              "    .dataframe thead th {\n",
              "        text-align: right;\n",
              "    }\n",
              "</style>\n",
              "<table border=\"1\" class=\"dataframe\">\n",
              "  <thead>\n",
              "    <tr style=\"text-align: right;\">\n",
              "      <th></th>\n",
              "      <th>.</th>\n",
              "      <th>DET</th>\n",
              "      <th>NUM</th>\n",
              "      <th>ADP</th>\n",
              "      <th>CONJ</th>\n",
              "      <th>ADV</th>\n",
              "      <th>NOUN</th>\n",
              "      <th>ADJ</th>\n",
              "      <th>PRT</th>\n",
              "      <th>PRON</th>\n",
              "      <th>VERB</th>\n",
              "      <th>X</th>\n",
              "    </tr>\n",
              "  </thead>\n",
              "  <tbody>\n",
              "    <tr>\n",
              "      <th>.</th>\n",
              "      <td>0.093320</td>\n",
              "      <td>0.173335</td>\n",
              "      <td>0.081003</td>\n",
              "      <td>0.091342</td>\n",
              "      <td>0.057538</td>\n",
              "      <td>0.052324</td>\n",
              "      <td>0.222242</td>\n",
              "      <td>0.043963</td>\n",
              "      <td>0.002427</td>\n",
              "      <td>0.066349</td>\n",
              "      <td>0.089095</td>\n",
              "      <td>0.026971</td>\n",
              "    </tr>\n",
              "    <tr>\n",
              "      <th>DET</th>\n",
              "      <td>0.017993</td>\n",
              "      <td>0.005676</td>\n",
              "      <td>0.022220</td>\n",
              "      <td>0.009540</td>\n",
              "      <td>0.000483</td>\n",
              "      <td>0.012438</td>\n",
              "      <td>0.638087</td>\n",
              "      <td>0.204323</td>\n",
              "      <td>0.000242</td>\n",
              "      <td>0.003744</td>\n",
              "      <td>0.039850</td>\n",
              "      <td>0.045405</td>\n",
              "    </tr>\n",
              "    <tr>\n",
              "      <th>NUM</th>\n",
              "      <td>0.117332</td>\n",
              "      <td>0.003276</td>\n",
              "      <td>0.184932</td>\n",
              "      <td>0.036033</td>\n",
              "      <td>0.013699</td>\n",
              "      <td>0.002978</td>\n",
              "      <td>0.350208</td>\n",
              "      <td>0.034247</td>\n",
              "      <td>0.026504</td>\n",
              "      <td>0.001489</td>\n",
              "      <td>0.018761</td>\n",
              "      <td>0.210542</td>\n",
              "    </tr>\n",
              "    <tr>\n",
              "      <th>ADP</th>\n",
              "      <td>0.039025</td>\n",
              "      <td>0.324709</td>\n",
              "      <td>0.062226</td>\n",
              "      <td>0.016893</td>\n",
              "      <td>0.000962</td>\n",
              "      <td>0.014006</td>\n",
              "      <td>0.320967</td>\n",
              "      <td>0.107024</td>\n",
              "      <td>0.001390</td>\n",
              "      <td>0.070031</td>\n",
              "      <td>0.008340</td>\n",
              "      <td>0.034427</td>\n",
              "    </tr>\n",
              "    <tr>\n",
              "      <th>CONJ</th>\n",
              "      <td>0.034868</td>\n",
              "      <td>0.121339</td>\n",
              "      <td>0.039981</td>\n",
              "      <td>0.052534</td>\n",
              "      <td>0.000465</td>\n",
              "      <td>0.055323</td>\n",
              "      <td>0.349140</td>\n",
              "      <td>0.118085</td>\n",
              "      <td>0.004649</td>\n",
              "      <td>0.058113</td>\n",
              "      <td>0.156671</td>\n",
              "      <td>0.008833</td>\n",
              "    </tr>\n",
              "    <tr>\n",
              "      <th>ADV</th>\n",
              "      <td>0.137131</td>\n",
              "      <td>0.069891</td>\n",
              "      <td>0.030474</td>\n",
              "      <td>0.118582</td>\n",
              "      <td>0.006956</td>\n",
              "      <td>0.080490</td>\n",
              "      <td>0.031467</td>\n",
              "      <td>0.129182</td>\n",
              "      <td>0.014243</td>\n",
              "      <td>0.014906</td>\n",
              "      <td>0.343491</td>\n",
              "      <td>0.023186</td>\n",
              "    </tr>\n",
              "    <tr>\n",
              "      <th>NOUN</th>\n",
              "      <td>0.240604</td>\n",
              "      <td>0.012942</td>\n",
              "      <td>0.009542</td>\n",
              "      <td>0.176514</td>\n",
              "      <td>0.042666</td>\n",
              "      <td>0.017074</td>\n",
              "      <td>0.263564</td>\n",
              "      <td>0.012248</td>\n",
              "      <td>0.043397</td>\n",
              "      <td>0.004607</td>\n",
              "      <td>0.147667</td>\n",
              "      <td>0.029175</td>\n",
              "    </tr>\n",
              "    <tr>\n",
              "      <th>ADJ</th>\n",
              "      <td>0.063931</td>\n",
              "      <td>0.004943</td>\n",
              "      <td>0.021256</td>\n",
              "      <td>0.078267</td>\n",
              "      <td>0.016971</td>\n",
              "      <td>0.004778</td>\n",
              "      <td>0.699621</td>\n",
              "      <td>0.066403</td>\n",
              "      <td>0.010710</td>\n",
              "      <td>0.000330</td>\n",
              "      <td>0.011699</td>\n",
              "      <td>0.021091</td>\n",
              "    </tr>\n",
              "    <tr>\n",
              "      <th>PRT</th>\n",
              "      <td>0.043822</td>\n",
              "      <td>0.097858</td>\n",
              "      <td>0.056672</td>\n",
              "      <td>0.020099</td>\n",
              "      <td>0.002306</td>\n",
              "      <td>0.010214</td>\n",
              "      <td>0.247776</td>\n",
              "      <td>0.083031</td>\n",
              "      <td>0.001647</td>\n",
              "      <td>0.017792</td>\n",
              "      <td>0.405272</td>\n",
              "      <td>0.013509</td>\n",
              "    </tr>\n",
              "    <tr>\n",
              "      <th>PRON</th>\n",
              "      <td>0.040965</td>\n",
              "      <td>0.009954</td>\n",
              "      <td>0.006508</td>\n",
              "      <td>0.022971</td>\n",
              "      <td>0.005360</td>\n",
              "      <td>0.034074</td>\n",
              "      <td>0.210949</td>\n",
              "      <td>0.073124</td>\n",
              "      <td>0.013017</td>\n",
              "      <td>0.007657</td>\n",
              "      <td>0.485452</td>\n",
              "      <td>0.089969</td>\n",
              "    </tr>\n",
              "    <tr>\n",
              "      <th>VERB</th>\n",
              "      <td>0.034934</td>\n",
              "      <td>0.134392</td>\n",
              "      <td>0.022851</td>\n",
              "      <td>0.092022</td>\n",
              "      <td>0.005577</td>\n",
              "      <td>0.081952</td>\n",
              "      <td>0.110070</td>\n",
              "      <td>0.064988</td>\n",
              "      <td>0.030674</td>\n",
              "      <td>0.035786</td>\n",
              "      <td>0.169249</td>\n",
              "      <td>0.217506</td>\n",
              "    </tr>\n",
              "    <tr>\n",
              "      <th>X</th>\n",
              "      <td>0.163590</td>\n",
              "      <td>0.054742</td>\n",
              "      <td>0.002864</td>\n",
              "      <td>0.142584</td>\n",
              "      <td>0.010662</td>\n",
              "      <td>0.024984</td>\n",
              "      <td>0.062381</td>\n",
              "      <td>0.017187</td>\n",
              "      <td>0.185232</td>\n",
              "      <td>0.055538</td>\n",
              "      <td>0.203851</td>\n",
              "      <td>0.076384</td>\n",
              "    </tr>\n",
              "  </tbody>\n",
              "</table>\n",
              "</div>"
            ],
            "text/plain": [
              "             .       DET       NUM  ...      PRON      VERB         X\n",
              ".     0.093320  0.173335  0.081003  ...  0.066349  0.089095  0.026971\n",
              "DET   0.017993  0.005676  0.022220  ...  0.003744  0.039850  0.045405\n",
              "NUM   0.117332  0.003276  0.184932  ...  0.001489  0.018761  0.210542\n",
              "ADP   0.039025  0.324709  0.062226  ...  0.070031  0.008340  0.034427\n",
              "CONJ  0.034868  0.121339  0.039981  ...  0.058113  0.156671  0.008833\n",
              "ADV   0.137131  0.069891  0.030474  ...  0.014906  0.343491  0.023186\n",
              "NOUN  0.240604  0.012942  0.009542  ...  0.004607  0.147667  0.029175\n",
              "ADJ   0.063931  0.004943  0.021256  ...  0.000330  0.011699  0.021091\n",
              "PRT   0.043822  0.097858  0.056672  ...  0.017792  0.405272  0.013509\n",
              "PRON  0.040965  0.009954  0.006508  ...  0.007657  0.485452  0.089969\n",
              "VERB  0.034934  0.134392  0.022851  ...  0.035786  0.169249  0.217506\n",
              "X     0.163590  0.054742  0.002864  ...  0.055538  0.203851  0.076384\n",
              "\n",
              "[12 rows x 12 columns]"
            ]
          },
          "metadata": {
            "tags": []
          },
          "execution_count": 151
        }
      ]
    },
    {
      "cell_type": "code",
      "metadata": {
        "id": "ErxLnl9QIpzZ",
        "outputId": "d0943a0e-7c9c-40c2-a828-c0faa97a757d",
        "colab": {
          "base_uri": "https://localhost:8080/",
          "height": 483
        }
      },
      "source": [
        "#plotting a heatmap for better visualisation\n",
        "\n",
        "#T(i,j) -> P(tag j given tag i)\n",
        "\n",
        "plt.figure(figsize=(15,8))\n",
        "sns.heatmap(tags_df, annot=True)\n",
        "plt.show()"
      ],
      "execution_count": 152,
      "outputs": [
        {
          "output_type": "display_data",
          "data": {
            "image/png": "[encoded data removed]",
            "text/plain": [
              "<Figure size 1080x576 with 2 Axes>"
            ]
          },
          "metadata": {
            "tags": [],
            "needs_background": "light"
          }
        }
      ]
    },
    {
      "cell_type": "markdown",
      "metadata": {
        "id": "60Thh2PeXuCn"
      },
      "source": [
        "### Build the vanilla Viterbi based POS tagger"
      ]
    },
    {
      "cell_type": "code",
      "metadata": {
        "id": "ST1tem7kXuCn"
      },
      "source": [
        "# Viterbi Heuristic\n",
        "def Viterbi(words, train_bag = train_tagged_words):\n",
        "    state = []\n",
        "    T = list(set([pair[1] for pair in train_bag]))\n",
        "    \n",
        "    for key, word in enumerate(words):\n",
        "        #initialise list of probability column for a given observation\n",
        "        p = [] \n",
        "        for tag in T:\n",
        "            if key == 0:\n",
        "                transition_p = tags_df.loc['.', tag]\n",
        "            else:\n",
        "                transition_p = tags_df.loc[state[-1], tag]\n",
        "                \n",
        "            # compute emission and state probabilities\n",
        "            emission_p = word_given_tag(words[key], tag)[0]/word_given_tag(words[key], tag)[1]\n",
        "            state_probability = emission_p * transition_p    \n",
        "            p.append(state_probability)\n",
        "            \n",
        "        pmax = max(p)\n",
        "        # getting state for which probability is maximum\n",
        "        state_max = T[p.index(pmax)] \n",
        "        state.append(state_max)\n",
        "    return list(zip(words, state))"
      ],
      "execution_count": 153,
      "outputs": []
    },
    {
      "cell_type": "code",
      "metadata": {
        "id": "ij0K60neXuCp",
        "outputId": "c6fd82c3-c811-4bca-d54e-072eeb7099e7",
        "colab": {
          "base_uri": "https://localhost:8080/"
        }
      },
      "source": [
        "# Running on entire test dataset would take more time\n",
        "# Let's test our Viterbi algorithm on a few sample sentences of test dataset\n",
        "\n",
        "random.seed(1234)\n",
        "\n",
        "# choose random 5 sents\n",
        "rndom = [random.randint(1,len(test_set)) for x in range(5)]\n",
        "\n",
        "# list of sents\n",
        "test_run = [test_set[i] for i in rndom]\n",
        "\n",
        "# list of tagged words\n",
        "test_run_base = [tup for sent in test_run for tup in sent]\n",
        "\n",
        "# list of untagged words\n",
        "test_tagged_words = [tup[0] for sent in test_run for tup in sent]\n",
        "\n",
        "test_run"
      ],
      "execution_count": 154,
      "outputs": [
        {
          "output_type": "execute_result",
          "data": {
            "text/plain": [
              "[[('The', 'DET'),\n",
              "  ('Contra', 'NOUN'),\n",
              "  ('military', 'ADJ'),\n",
              "  ('command', 'NOUN'),\n",
              "  (',', '.'),\n",
              "  ('in', 'ADP'),\n",
              "  ('a', 'DET'),\n",
              "  ('statement', 'NOUN'),\n",
              "  ('from', 'ADP'),\n",
              "  ('Honduras', 'NOUN'),\n",
              "  (',', '.'),\n",
              "  ('said', 'VERB'),\n",
              "  ('0', 'X'),\n",
              "  ('Sandinista', 'NOUN'),\n",
              "  ('troops', 'NOUN'),\n",
              "  ('had', 'VERB'),\n",
              "  ('launched', 'VERB'),\n",
              "  ('a', 'DET'),\n",
              "  ('major', 'ADJ'),\n",
              "  ('offensive', 'NOUN'),\n",
              "  ('against', 'ADP'),\n",
              "  ('the', 'DET'),\n",
              "  ('rebel', 'NOUN'),\n",
              "  ('forces', 'NOUN'),\n",
              "  ('.', '.')],\n",
              " [('*-1', 'X'),\n",
              "  ('Bucking', 'VERB'),\n",
              "  ('the', 'DET'),\n",
              "  ('market', 'NOUN'),\n",
              "  ('trend', 'NOUN'),\n",
              "  (',', '.'),\n",
              "  ('an', 'DET'),\n",
              "  ('issue', 'NOUN'),\n",
              "  ('of', 'ADP'),\n",
              "  ('$', '.'),\n",
              "  ('130', 'NUM'),\n",
              "  ('million', 'NUM'),\n",
              "  ('*U*', 'X'),\n",
              "  ('general', 'ADJ'),\n",
              "  ('obligation', 'NOUN'),\n",
              "  ('distributable', 'ADJ'),\n",
              "  ('state', 'NOUN'),\n",
              "  ('aid', 'NOUN'),\n",
              "  ('bonds', 'NOUN'),\n",
              "  ('from', 'ADP'),\n",
              "  ('Detroit', 'NOUN'),\n",
              "  (',', '.'),\n",
              "  ('Mich.', 'NOUN'),\n",
              "  (',', '.'),\n",
              "  ('apparently', 'ADV'),\n",
              "  ('drew', 'VERB'),\n",
              "  ('solid', 'ADJ'),\n",
              "  ('investor', 'NOUN'),\n",
              "  ('interest', 'NOUN'),\n",
              "  ('.', '.')],\n",
              " [('Ralston', 'NOUN'),\n",
              "  ('said', 'VERB'),\n",
              "  ('0', 'X'),\n",
              "  ('its', 'PRON'),\n",
              "  ('Eveready', 'NOUN'),\n",
              "  ('battery', 'NOUN'),\n",
              "  ('unit', 'NOUN'),\n",
              "  ('was', 'VERB'),\n",
              "  ('hurt', 'VERB'),\n",
              "  ('*-1', 'X'),\n",
              "  ('by', 'ADP'),\n",
              "  ('continuing', 'VERB'),\n",
              "  ('economic', 'ADJ'),\n",
              "  ('problems', 'NOUN'),\n",
              "  ('in', 'ADP'),\n",
              "  ('South', 'NOUN'),\n",
              "  ('America', 'NOUN'),\n",
              "  ('.', '.')],\n",
              " [('I', 'PRON'),\n",
              "  ('feel', 'VERB'),\n",
              "  ('pretty', 'ADV'),\n",
              "  ('good', 'ADJ'),\n",
              "  ('about', 'ADP'),\n",
              "  ('it', 'PRON'),\n",
              "  ('.', '.')],\n",
              " [('Mr.', 'NOUN'),\n",
              "  ('Felten', 'NOUN'),\n",
              "  ('said', 'VERB'),\n",
              "  (',', '.'),\n",
              "  ('``', '.'),\n",
              "  ('We', 'PRON'),\n",
              "  ('got', 'VERB'),\n",
              "  ('what', 'PRON'),\n",
              "  ('*T*-252', 'X'),\n",
              "  ('amounted', 'VERB'),\n",
              "  ('to', 'PRT'),\n",
              "  ('a', 'DET'),\n",
              "  ('parking', 'NOUN'),\n",
              "  ('ticket', 'NOUN'),\n",
              "  (',', '.'),\n",
              "  ('and', 'CONJ'),\n",
              "  ('by', 'ADP'),\n",
              "  ('*-1', 'X'),\n",
              "  ('complaining', 'VERB'),\n",
              "  ('about', 'ADP'),\n",
              "  ('it', 'PRON'),\n",
              "  (',', '.'),\n",
              "  ('we', 'PRON'),\n",
              "  ('ended', 'VERB'),\n",
              "  ('up', 'PRT'),\n",
              "  ('with', 'ADP'),\n",
              "  ('a', 'DET'),\n",
              "  ('sizable', 'ADJ'),\n",
              "  ('fine', 'NOUN'),\n",
              "  ('and', 'CONJ'),\n",
              "  ('suspension', 'NOUN'),\n",
              "  ('.', '.'),\n",
              "  (\"''\", '.')]]"
            ]
          },
          "metadata": {
            "tags": []
          },
          "execution_count": 154
        }
      ]
    },
    {
      "cell_type": "code",
      "metadata": {
        "id": "MpoPnVSygfuP",
        "outputId": "0765e1bb-f695-4802-f931-2e10ee28ebfd",
        "colab": {
          "base_uri": "https://localhost:8080/"
        }
      },
      "source": [
        "# now we will be tagging the test sentences \n",
        "start = time.time()\n",
        "tagged_seq = Viterbi(test_tagged_words)\n",
        "end = time.time()\n",
        "diff = end-start\n",
        "\n",
        "#accuracy \n",
        "check = [i for i, j in zip(tagged_seq, test_run_base) if i == j] \n",
        "accuracy = len(check)/len(tagged_seq)\n",
        "\n",
        "print(\"Time taken :\", diff)\n",
        "print(\"Accuracy for Vanilla Viterbi : \",accuracy*100)"
      ],
      "execution_count": 155,
      "outputs": [
        {
          "output_type": "stream",
          "text": [
            "Time taken : 28.413122177124023\n",
            "Accuracy for Vanilla Viterbi :  89.38053097345133\n"
          ],
          "name": "stdout"
        }
      ]
    },
    {
      "cell_type": "code",
      "metadata": {
        "id": "7m4a1CpWJSsS",
        "outputId": "aeda6f35-332b-490e-ade0-0052d60bbc12",
        "colab": {
          "base_uri": "https://localhost:8080/"
        }
      },
      "source": [
        "# to check the incorrectly tagged words\n",
        "incorrect_tagged_cases = [[test_run_base[i-1],j] for i, j in enumerate(zip(tagged_seq, test_run_base)) if j[0]!=j[1]]\n",
        "incorrect_tagged_cases"
      ],
      "execution_count": 156,
      "outputs": [
        {
          "output_type": "execute_result",
          "data": {
            "text/plain": [
              "[[('The', 'DET'), (('Contra', '.'), ('Contra', 'NOUN'))],\n",
              " [('military', 'ADJ'), (('command', 'VERB'), ('command', 'NOUN'))],\n",
              " [('from', 'ADP'), (('Honduras', '.'), ('Honduras', 'NOUN'))],\n",
              " [('0', 'X'), (('Sandinista', '.'), ('Sandinista', 'NOUN'))],\n",
              " [('major', 'ADJ'), (('offensive', '.'), ('offensive', 'NOUN'))],\n",
              " [('the', 'DET'), (('rebel', '.'), ('rebel', 'NOUN'))],\n",
              " [('*-1', 'X'), (('Bucking', '.'), ('Bucking', 'VERB'))],\n",
              " [('apparently', 'ADV'), (('drew', '.'), ('drew', 'VERB'))],\n",
              " [('its', 'PRON'), (('Eveready', '.'), ('Eveready', 'NOUN'))],\n",
              " [('what', 'PRON'), (('*T*-252', '.'), ('*T*-252', 'X'))],\n",
              " [('*-1', 'X'), (('complaining', '.'), ('complaining', 'VERB'))],\n",
              " [('ended', 'VERB'), (('up', 'ADV'), ('up', 'PRT'))]]"
            ]
          },
          "metadata": {
            "tags": []
          },
          "execution_count": 156
        }
      ]
    },
    {
      "cell_type": "markdown",
      "metadata": {
        "id": "sSIUgt78JevY"
      },
      "source": [
        "\n",
        "The accuracy for Vanilla viterbi is 89.3%\n",
        "\n",
        "We can see that all the unknown words have been assigned \".\" as \".\" is the first tag in the list and its assigned whenevre the unknown word is encountered, since emission probability = 0 \n"
      ]
    },
    {
      "cell_type": "code",
      "metadata": {
        "id": "4vedMXuTJbyu",
        "outputId": "777f7513-3c15-40b7-b5d0-d98a1f59cb0f",
        "colab": {
          "base_uri": "https://localhost:8080/"
        }
      },
      "source": [
        "#checking the unknown words\n",
        "\n",
        "test_vocab_set = set([t for t in test_tagged_words])\n",
        "\n",
        "unknown_words = list(test_vocab_set - train_vocab_set)\n",
        "print(\"number of unknown words : \",len(unknown_words))\n",
        "print(\"unknown words : \",unknown_words)"
      ],
      "execution_count": 157,
      "outputs": [
        {
          "output_type": "stream",
          "text": [
            "number of unknown words :  10\n",
            "unknown words :  ['Honduras', 'Sandinista', 'offensive', 'drew', 'Bucking', 'Contra', 'complaining', 'rebel', 'Eveready', '*T*-252']\n"
          ],
          "name": "stdout"
        }
      ]
    },
    {
      "cell_type": "markdown",
      "metadata": {
        "id": "B1zbLqzBXuCr"
      },
      "source": [
        "### Solve the problem of unknown words"
      ]
    },
    {
      "cell_type": "markdown",
      "metadata": {
        "id": "cfi0l0fhJxLe"
      },
      "source": [
        "### Viterbi Modification - Technique 1 \n",
        "\n",
        "If the word isnt present in the training vocabulary , its emission probavility will be 0. \n",
        "In this case, the state probability will also be 0.\n",
        "\n",
        "So, in the cases where the algorithm encounters the unknown word we can only consider the transition probability and leave out emission probability."
      ]
    },
    {
      "cell_type": "code",
      "metadata": {
        "id": "inEsXCbHJvBz"
      },
      "source": [
        "#In case of unknown words, we will use transition probbaility. (emission probability = 0)\n",
        "\n",
        "def Viterbi_T1(words, train_bag = train_tagged_words):\n",
        "  state = []\n",
        "  T = list(set([pair[1] for pair in train_bag]))\n",
        "\n",
        "  for key, word in enumerate(words):\n",
        "        #initialise list of probability column for a given observation\n",
        "        p = []\n",
        "        #for storing transition probabilities \n",
        "        p_transition = []\n",
        "        for tag in T:\n",
        "            if key == 0:\n",
        "                transition_p = tags_df.loc['.', tag]\n",
        "            else:\n",
        "                transition_p = tags_df.loc[state[-1], tag]\n",
        "                \n",
        "            # compute emission and state probabilities\n",
        "            emission_p = word_given_tag(words[key], tag)[0]/word_given_tag(words[key], tag)[1]\n",
        "            state_probability = emission_p * transition_p    \n",
        "            p.append(state_probability)\n",
        "            p_transition.append(transition_p)\n",
        "         \n",
        "        pmax = max(p)\n",
        "        # getting state for which probability is maximum\n",
        "        state_max = T[p.index(pmax)]\n",
        "        #if probability is 0, then we will be using transition probability\n",
        "        if(pmax==0):\n",
        "           pmax = max(p_transition)\n",
        "           state_max = T[p_transition.index(pmax)]\n",
        "        else:\n",
        "           state_max = T[p.index(pmax)]\n",
        "\n",
        "        state.append(state_max)\n",
        "  return list(zip(words, state))"
      ],
      "execution_count": 158,
      "outputs": []
    },
    {
      "cell_type": "code",
      "metadata": {
        "id": "5ui2-c-rJu80",
        "outputId": "063ec116-4530-4843-aa48-50a25fc5ce77",
        "colab": {
          "base_uri": "https://localhost:8080/"
        }
      },
      "source": [
        "# now we will be tagging the test sentences \n",
        "start = time.time()\n",
        "tagged_seq = Viterbi_T1(test_tagged_words)\n",
        "end = time.time()\n",
        "diff = end-start\n",
        "\n",
        "#accuracy \n",
        "check = [i for i, j in zip(tagged_seq, test_run_base) if i == j] \n",
        "accuracy = len(check)/len(tagged_seq)\n",
        "\n",
        "print(\"Time taken :\", diff)\n",
        "print(\"Accuracy for Viterbi - technique 1 : \",accuracy*100)"
      ],
      "execution_count": 159,
      "outputs": [
        {
          "output_type": "stream",
          "text": [
            "Time taken : 26.20182180404663\n",
            "Accuracy for Viterbi - technique 1 :  94.69026548672566\n"
          ],
          "name": "stdout"
        }
      ]
    },
    {
      "cell_type": "code",
      "metadata": {
        "id": "ZKRdPs1cKFt6",
        "outputId": "5896da3a-35ad-4cff-f014-6823e538042d",
        "colab": {
          "base_uri": "https://localhost:8080/"
        }
      },
      "source": [
        "# let's check the incorrectly tagged words\n",
        "inc_case1 = [j for i, j in enumerate(zip(tagged_seq, test_run_base)) if j[0] != j[1]]\n",
        "inc_case1"
      ],
      "execution_count": 160,
      "outputs": [
        {
          "output_type": "execute_result",
          "data": {
            "text/plain": [
              "[(('command', 'VERB'), ('command', 'NOUN')),\n",
              " (('Honduras', 'DET'), ('Honduras', 'NOUN')),\n",
              " (('Sandinista', 'VERB'), ('Sandinista', 'NOUN')),\n",
              " (('Eveready', 'VERB'), ('Eveready', 'NOUN')),\n",
              " (('*T*-252', 'VERB'), ('*T*-252', 'X')),\n",
              " (('up', 'ADV'), ('up', 'PRT'))]"
            ]
          },
          "metadata": {
            "tags": []
          },
          "execution_count": 160
        }
      ]
    },
    {
      "cell_type": "markdown",
      "metadata": {
        "id": "8fC_O88vKJQR"
      },
      "source": [
        "The following words have been correctly tagged by the Modification Technique 1 when compared to vanilla viterbi \n",
        "\n",
        "1. Contra - correctly tagged as NOUN\n",
        "2. military - correctly tagged as adjective \n",
        "3. offensive - correctly tagged as NOUN\n",
        "4. The - correclty tagged as Det\n",
        "5. Bucking - correctly tagged VERB\n",
        "6. its- Correctly tagged as PRON\n",
        "7. complaining- Correctly tagged as VERB\n",
        " "
      ]
    },
    {
      "cell_type": "markdown",
      "metadata": {
        "id": "eieiH98mmZhx"
      },
      "source": [
        "### Viterbi Modification technique 2 \n",
        "\n",
        "- We can use a rule based tagger as a back off when the Viterbi algorothm is not able to classify an unknown word.\n",
        "\n",
        "The rule based tagger is defined as follows:"
      ]
    },
    {
      "cell_type": "code",
      "metadata": {
        "id": "7zJl3OZmN0ht"
      },
      "source": [
        "#patterns for tagging are specified as follows.\n",
        "\n",
        "patterns = [\n",
        "    (r'[aA-zZ]+(ed|ing|es)$','VERB'), #word ending with ing, ed, es is a verb\n",
        "    (r'.*\\'s$', 'NOUN'),              #possesive noun\n",
        "    (r'.*s$', 'NOUN'),                #plural noun\n",
        "    (r'\\*T?\\*?-[0-9]+$', 'X'),        #special character conbination\n",
        "    (r'^-?[0-9]+(.[0-9]+)?$', 'NUM'), #number\n",
        "    (r'.*', 'NOUN')                   #nouns  \n",
        "]\n",
        "\n",
        "#rule based tagger\n",
        "rule_based_tagger = nltk.RegexpTagger(patterns)"
      ],
      "execution_count": 161,
      "outputs": []
    },
    {
      "cell_type": "code",
      "metadata": {
        "id": "pHIArhtDN0kj"
      },
      "source": [
        "# Incase unknown words are encountered , it will be backoff to rule based tagger.\n",
        "\n",
        "def Viterbi_T2(words, train_bag = train_tagged_words):\n",
        "  state = []\n",
        "  T = list(set([pair[1] for pair in train_bag]))\n",
        "\n",
        "  for key, word in enumerate(words):\n",
        "        #initialise list of probability column for a given observation\n",
        "        p = []\n",
        "        for tag in T:\n",
        "            if key == 0:\n",
        "                transition_p = tags_df.loc['.', tag]\n",
        "            else:\n",
        "                transition_p = tags_df.loc[state[-1], tag]\n",
        "                \n",
        "            # compute emission and state probabilities\n",
        "            emission_p = word_given_tag(words[key], tag)[0]/word_given_tag(words[key], tag)[1]\n",
        "            state_probability = emission_p * transition_p    \n",
        "            p.append(state_probability)\n",
        "                     \n",
        "        pmax = max(p)\n",
        "        state_max = rule_based_tagger.tag([word])[0][1]\n",
        "\n",
        "        if(pmax==0):\n",
        "            state_max = rule_based_tagger.tag([word])[0][1] #it will tag based on the rule based tagger\n",
        "        else:\n",
        "            if state_max != 'X':\n",
        "                # getting state for which probability is maximum\n",
        "                state_max = T[p.index(pmax)]\n",
        "\n",
        "        state.append(state_max)\n",
        "  return list(zip(words, state))"
      ],
      "execution_count": 162,
      "outputs": []
    },
    {
      "cell_type": "code",
      "metadata": {
        "id": "JGAvn8QbN0ce",
        "outputId": "bc911371-82fc-45c8-9523-246bce31c2a1",
        "colab": {
          "base_uri": "https://localhost:8080/"
        }
      },
      "source": [
        "# now we will be tagging the test sentences \n",
        "start = time.time()\n",
        "tagged_seq = Viterbi_T2(test_tagged_words)\n",
        "end = time.time()\n",
        "diff = end-start\n",
        "\n",
        "#accuracy \n",
        "check = [i for i, j in zip(tagged_seq, test_run_base) if i == j] \n",
        "accuracy = len(check)/len(tagged_seq)\n",
        "\n",
        "print(\"Time taken :\", diff)\n",
        "print(\"Accuracy for Viterbi - technique 2 : \",accuracy*100)"
      ],
      "execution_count": 163,
      "outputs": [
        {
          "output_type": "stream",
          "text": [
            "Time taken : 29.47772741317749\n",
            "Accuracy for Viterbi - technique 2 :  97.34513274336283\n"
          ],
          "name": "stdout"
        }
      ]
    },
    {
      "cell_type": "code",
      "metadata": {
        "id": "1_ID66mYOfUH",
        "outputId": "49b5ecdb-3d07-43bf-c5c7-13393f600b72",
        "colab": {
          "base_uri": "https://localhost:8080/"
        }
      },
      "source": [
        "# let's check the incorrectly tagged words\n",
        "[j for i, j in enumerate(zip(tagged_seq, test_run_base)) if j[0] != j[1]]\n"
      ],
      "execution_count": 164,
      "outputs": [
        {
          "output_type": "execute_result",
          "data": {
            "text/plain": [
              "[(('command', 'VERB'), ('command', 'NOUN')),\n",
              " (('drew', 'NOUN'), ('drew', 'VERB')),\n",
              " (('up', 'ADV'), ('up', 'PRT'))]"
            ]
          },
          "metadata": {
            "tags": []
          },
          "execution_count": 164
        }
      ]
    },
    {
      "cell_type": "markdown",
      "metadata": {
        "id": "qcS3c6hkOl8A"
      },
      "source": [
        " The cases which were incorreclty tagged and got corrected after Viterbi modification technique 2 are as follows:\n",
        "- Honduras- 'NOUN'\n",
        "- Sandinista- 'NOUN'\n",
        "- Eveready - 'NOUN'\n",
        "- *T*-252 - 'X'"
      ]
    },
    {
      "cell_type": "markdown",
      "metadata": {
        "id": "9fcX-fGDXuCw"
      },
      "source": [
        "#### Evaluating tagging accuracy"
      ]
    },
    {
      "cell_type": "code",
      "metadata": {
        "id": "RHqtHWQ1XuCw"
      },
      "source": [
        "#list of untagged words from teh test set\n",
        "test_tagged_words = [tup[0] for sent in test_set for tup in sent]\n",
        "\n",
        "#list of tagged words\n",
        "test_run_base = [tup for sent in test_set for tup in sent]"
      ],
      "execution_count": 165,
      "outputs": []
    },
    {
      "cell_type": "markdown",
      "metadata": {
        "id": "jTWFn5UpBIDb"
      },
      "source": [
        "Accuracy of Vanilla Viterbi On Test set"
      ]
    },
    {
      "cell_type": "code",
      "metadata": {
        "id": "gePd1s0YnJCZ",
        "outputId": "c7068eec-3a9d-4e25-e1ec-048d101c08f3",
        "colab": {
          "base_uri": "https://localhost:8080/"
        }
      },
      "source": [
        "# tagging the test sentences\n",
        "start = time.time()\n",
        "tagged_seq = Viterbi(test_tagged_words)\n",
        "end = time.time()\n",
        "difference = end-start\n",
        "\n",
        "print(\"Time taken in seconds: \", difference)\n",
        "\n",
        "# accuracy\n",
        "check = [i for i, j in zip(tagged_seq, test_run_base) if i == j] \n",
        "accuracy = len(check)/len(tagged_seq)\n",
        "print('Vanilla Viterbi Algorithm Accuracy: ',accuracy*100)"
      ],
      "execution_count": 166,
      "outputs": [
        {
          "output_type": "stream",
          "text": [
            "Time taken in seconds:  1140.3728566169739\n",
            "Vanilla Viterbi Algorithm Accuracy:  90.9728992006239\n"
          ],
          "name": "stdout"
        }
      ]
    },
    {
      "cell_type": "markdown",
      "metadata": {
        "id": "AzQOLCoABLlO"
      },
      "source": [
        "Accuracy of Viterbi Modification -Technique 1 on test set"
      ]
    },
    {
      "cell_type": "code",
      "metadata": {
        "id": "REYFf61qptep",
        "outputId": "ee131761-1206-4567-e8c8-e561f7f94d22",
        "colab": {
          "base_uri": "https://localhost:8080/"
        }
      },
      "source": [
        "# tagging the test sentences\n",
        "start = time.time()\n",
        "tagged_seq = Viterbi_T1(test_tagged_words)\n",
        "end = time.time()\n",
        "difference = end-start\n",
        "\n",
        "print(\"Time taken in seconds: \", difference)\n",
        "\n",
        "# accuracy\n",
        "check = [i for i, j in zip(tagged_seq, test_run_base) if i == j] \n",
        "accuracy = len(check)/len(tagged_seq)\n",
        "print('Modified Viterbi Algorithm Accuracy - Technique1: ',accuracy*100)"
      ],
      "execution_count": 167,
      "outputs": [
        {
          "output_type": "stream",
          "text": [
            "Time taken in seconds:  1162.870013475418\n",
            "Modified Viterbi Algorithm Accuracy - Technique1:  94.03392474166505\n"
          ],
          "name": "stdout"
        }
      ]
    },
    {
      "cell_type": "markdown",
      "metadata": {
        "id": "ugcpdMp2BTvp"
      },
      "source": [
        "Accuracy of Viterbi modification - Technique 2 on test set"
      ]
    },
    {
      "cell_type": "code",
      "metadata": {
        "id": "irNzayxhqGE9",
        "outputId": "66c0c0a5-a272-4344-bdb9-72bf36b294f0",
        "colab": {
          "base_uri": "https://localhost:8080/"
        }
      },
      "source": [
        "# tagging the test sentences\n",
        "start = time.time()\n",
        "tagged_seq = Viterbi_T2(test_tagged_words)\n",
        "end = time.time()\n",
        "difference = end-start\n",
        "\n",
        "print(\"Time taken in seconds: \", difference)\n",
        "\n",
        "# accuracy\n",
        "check = [i for i, j in zip(tagged_seq, test_run_base) if i == j] \n",
        "accuracy = len(check)/len(tagged_seq)\n",
        "print('Modified Viterbi Algorithm Accuracy - Technique2: ',accuracy*100)"
      ],
      "execution_count": 168,
      "outputs": [
        {
          "output_type": "stream",
          "text": [
            "Time taken in seconds:  1194.010978937149\n",
            "Modified Viterbi Algorithm Accuracy - Technique2:  95.3987131994541\n"
          ],
          "name": "stdout"
        }
      ]
    },
    {
      "cell_type": "markdown",
      "metadata": {
        "id": "lZ0pCjA5sni4"
      },
      "source": [
        "####Test tagging acccuracies on sample test sentences given:\n"
      ]
    },
    {
      "cell_type": "code",
      "metadata": {
        "id": "awwvY7zIsaM6"
      },
      "source": [
        "sample_sentences_test = [ \"Android is a mobile operating system developed by Google.\",\n",
        "\"Android has been the best-selling OS worldwide on smartphones since 2011 and on tablets since 2013.\",\n",
        "\"Google and Twitter made a deal in 2015 that gave Google access to Twitter's firehose.\",\n",
        "\"Twitter is an online news and social networking service on which users post and interact with messages known as tweets.\",\n",
        "\"Before entering politics, Donald Trump was a domineering businessman and a television personality.\",\n",
        "\"The 2018 FIFA World Cup is the 21st FIFA World Cup, an international football tournament contested once every four years.\",\n",
        "\"This is the first World Cup to be held in Eastern Europe and the 11th time that it has been held in Europe.\",\n",
        "\"Show me the cheapest round trips from Dallas to Atlanta\",\n",
        "\"I would like to see flights from Denver to Philadelphia.\",\n",
        "\"Show me the price of the flights leaving Atlanta at about 3 in the afternoon and arriving in San Francisco.\",\n",
        "\"NASA invited social media users to experience the launch of ICESAT-2 Satellite.\"\n",
        "]"
      ],
      "execution_count": 169,
      "outputs": []
    },
    {
      "cell_type": "code",
      "metadata": {
        "id": "eVUPtt51sZ_-",
        "outputId": "61f36455-49be-45f4-d7cd-74a96a5fc628",
        "colab": {
          "base_uri": "https://localhost:8080/"
        }
      },
      "source": [
        "#getting list of untagged worsd\n",
        "sample_test_words = [word for sent in sample_sentences_test for word in sent.split()]\n",
        "\n",
        "#tagging the test sentences with vanilla viterbi, to verify if modification works\n",
        "start = time.time() \n",
        "sample_tagged_seq = Viterbi(sample_test_words)\n",
        "end = time.time()\n",
        "difference = end-start\n",
        "\n",
        "print(\"Time taken: \",difference)\n",
        "\n",
        "sample_tagged_seq"
      ],
      "execution_count": 170,
      "outputs": [
        {
          "output_type": "stream",
          "text": [
            "Time taken:  38.628395080566406\n"
          ],
          "name": "stdout"
        },
        {
          "output_type": "execute_result",
          "data": {
            "text/plain": [
              "[('Android', '.'),\n",
              " ('is', 'VERB'),\n",
              " ('a', 'DET'),\n",
              " ('mobile', 'ADJ'),\n",
              " ('operating', 'NOUN'),\n",
              " ('system', 'NOUN'),\n",
              " ('developed', 'VERB'),\n",
              " ('by', 'ADP'),\n",
              " ('Google.', '.'),\n",
              " ('Android', '.'),\n",
              " ('has', 'VERB'),\n",
              " ('been', 'VERB'),\n",
              " ('the', 'DET'),\n",
              " ('best-selling', 'ADJ'),\n",
              " ('OS', '.'),\n",
              " ('worldwide', '.'),\n",
              " ('on', 'ADP'),\n",
              " ('smartphones', '.'),\n",
              " ('since', 'ADP'),\n",
              " ('2011', '.'),\n",
              " ('and', 'CONJ'),\n",
              " ('on', 'ADP'),\n",
              " ('tablets', 'NOUN'),\n",
              " ('since', 'ADP'),\n",
              " ('2013.', '.'),\n",
              " ('Google', '.'),\n",
              " ('and', 'CONJ'),\n",
              " ('Twitter', '.'),\n",
              " ('made', 'VERB'),\n",
              " ('a', 'DET'),\n",
              " ('deal', 'NOUN'),\n",
              " ('in', 'ADP'),\n",
              " ('2015', '.'),\n",
              " ('that', 'DET'),\n",
              " ('gave', 'VERB'),\n",
              " ('Google', '.'),\n",
              " ('access', 'NOUN'),\n",
              " ('to', 'PRT'),\n",
              " (\"Twitter's\", '.'),\n",
              " ('firehose.', '.'),\n",
              " ('Twitter', '.'),\n",
              " ('is', 'VERB'),\n",
              " ('an', 'DET'),\n",
              " ('online', '.'),\n",
              " ('news', 'NOUN'),\n",
              " ('and', 'CONJ'),\n",
              " ('social', 'ADJ'),\n",
              " ('networking', 'NOUN'),\n",
              " ('service', 'NOUN'),\n",
              " ('on', 'ADP'),\n",
              " ('which', 'DET'),\n",
              " ('users', 'NOUN'),\n",
              " ('post', 'NOUN'),\n",
              " ('and', 'CONJ'),\n",
              " ('interact', '.'),\n",
              " ('with', 'ADP'),\n",
              " ('messages', '.'),\n",
              " ('known', 'VERB'),\n",
              " ('as', 'ADP'),\n",
              " ('tweets.', '.'),\n",
              " ('Before', 'ADP'),\n",
              " ('entering', 'VERB'),\n",
              " ('politics,', '.'),\n",
              " ('Donald', 'NOUN'),\n",
              " ('Trump', 'NOUN'),\n",
              " ('was', 'VERB'),\n",
              " ('a', 'DET'),\n",
              " ('domineering', '.'),\n",
              " ('businessman', 'NOUN'),\n",
              " ('and', 'CONJ'),\n",
              " ('a', 'DET'),\n",
              " ('television', 'NOUN'),\n",
              " ('personality.', '.'),\n",
              " ('The', 'DET'),\n",
              " ('2018', '.'),\n",
              " ('FIFA', '.'),\n",
              " ('World', 'NOUN'),\n",
              " ('Cup', '.'),\n",
              " ('is', 'VERB'),\n",
              " ('the', 'DET'),\n",
              " ('21st', '.'),\n",
              " ('FIFA', '.'),\n",
              " ('World', 'NOUN'),\n",
              " ('Cup,', '.'),\n",
              " ('an', 'DET'),\n",
              " ('international', 'ADJ'),\n",
              " ('football', 'NOUN'),\n",
              " ('tournament', '.'),\n",
              " ('contested', '.'),\n",
              " ('once', 'ADV'),\n",
              " ('every', 'DET'),\n",
              " ('four', 'NUM'),\n",
              " ('years.', '.'),\n",
              " ('This', 'DET'),\n",
              " ('is', 'VERB'),\n",
              " ('the', 'DET'),\n",
              " ('first', 'ADJ'),\n",
              " ('World', 'NOUN'),\n",
              " ('Cup', '.'),\n",
              " ('to', 'PRT'),\n",
              " ('be', 'VERB'),\n",
              " ('held', 'VERB'),\n",
              " ('in', 'ADP'),\n",
              " ('Eastern', 'NOUN'),\n",
              " ('Europe', 'NOUN'),\n",
              " ('and', 'CONJ'),\n",
              " ('the', 'DET'),\n",
              " ('11th', 'ADJ'),\n",
              " ('time', 'NOUN'),\n",
              " ('that', 'ADP'),\n",
              " ('it', 'PRON'),\n",
              " ('has', 'VERB'),\n",
              " ('been', 'VERB'),\n",
              " ('held', 'VERB'),\n",
              " ('in', 'ADP'),\n",
              " ('Europe.', '.'),\n",
              " ('Show', 'NOUN'),\n",
              " ('me', 'PRON'),\n",
              " ('the', 'DET'),\n",
              " ('cheapest', 'ADJ'),\n",
              " ('round', 'NOUN'),\n",
              " ('trips', '.'),\n",
              " ('from', 'ADP'),\n",
              " ('Dallas', 'NOUN'),\n",
              " ('to', 'PRT'),\n",
              " ('Atlanta', 'NOUN'),\n",
              " ('I', 'PRON'),\n",
              " ('would', 'VERB'),\n",
              " ('like', 'ADP'),\n",
              " ('to', 'PRT'),\n",
              " ('see', 'VERB'),\n",
              " ('flights', 'NOUN'),\n",
              " ('from', 'ADP'),\n",
              " ('Denver', 'NOUN'),\n",
              " ('to', 'PRT'),\n",
              " ('Philadelphia.', '.'),\n",
              " ('Show', 'NOUN'),\n",
              " ('me', 'PRON'),\n",
              " ('the', 'DET'),\n",
              " ('price', 'NOUN'),\n",
              " ('of', 'ADP'),\n",
              " ('the', 'DET'),\n",
              " ('flights', 'NOUN'),\n",
              " ('leaving', 'VERB'),\n",
              " ('Atlanta', 'NOUN'),\n",
              " ('at', 'ADP'),\n",
              " ('about', 'ADP'),\n",
              " ('3', 'NUM'),\n",
              " ('in', 'ADP'),\n",
              " ('the', 'DET'),\n",
              " ('afternoon', 'NOUN'),\n",
              " ('and', 'CONJ'),\n",
              " ('arriving', '.'),\n",
              " ('in', 'ADP'),\n",
              " ('San', 'NOUN'),\n",
              " ('Francisco.', '.'),\n",
              " ('NASA', '.'),\n",
              " ('invited', '.'),\n",
              " ('social', 'ADJ'),\n",
              " ('media', 'NOUN'),\n",
              " ('users', 'NOUN'),\n",
              " ('to', 'PRT'),\n",
              " ('experience', 'NOUN'),\n",
              " ('the', 'DET'),\n",
              " ('launch', 'NOUN'),\n",
              " ('of', 'ADP'),\n",
              " ('ICESAT-2', '.'),\n",
              " ('Satellite.', '.')]"
            ]
          },
          "metadata": {
            "tags": []
          },
          "execution_count": 170
        }
      ]
    },
    {
      "cell_type": "markdown",
      "metadata": {
        "id": "bBcHE7PM1k1u"
      },
      "source": [
        "- We can see that some of the unknown words have been misclassifed by vanilla viterbi.They are as follows:\n",
        "  - 'Android', '.'\n",
        "  - 'Cup', '.'\n",
        "  - Google', '.'\n",
        "  - OS', '.'),\n",
        "  - 'worldwide', '.'  and so on..\n",
        "\n",
        " We will verify if they are tagged correctly by using the modified viterbi as follows:"
      ]
    },
    {
      "cell_type": "code",
      "metadata": {
        "id": "lFVe91Xa1hWu",
        "outputId": "f7643e7c-2264-4061-d7d4-438b6e82dbe2",
        "colab": {
          "base_uri": "https://localhost:8080/"
        }
      },
      "source": [
        "#tagging the test sentences with modified viterbi\n",
        "start = time.time() \n",
        "sample_tagged_seq = Viterbi_T2(sample_test_words)\n",
        "end = time.time()\n",
        "difference = end-start\n",
        "\n",
        "print(\"Time taken: \",difference)\n",
        "\n",
        "sample_tagged_seq"
      ],
      "execution_count": 171,
      "outputs": [
        {
          "output_type": "stream",
          "text": [
            "Time taken:  37.66370248794556\n"
          ],
          "name": "stdout"
        },
        {
          "output_type": "execute_result",
          "data": {
            "text/plain": [
              "[('Android', 'NOUN'),\n",
              " ('is', 'VERB'),\n",
              " ('a', 'DET'),\n",
              " ('mobile', 'ADJ'),\n",
              " ('operating', 'NOUN'),\n",
              " ('system', 'NOUN'),\n",
              " ('developed', 'VERB'),\n",
              " ('by', 'ADP'),\n",
              " ('Google.', 'NOUN'),\n",
              " ('Android', 'NOUN'),\n",
              " ('has', 'VERB'),\n",
              " ('been', 'VERB'),\n",
              " ('the', 'DET'),\n",
              " ('best-selling', 'ADJ'),\n",
              " ('OS', 'NOUN'),\n",
              " ('worldwide', 'NOUN'),\n",
              " ('on', 'ADP'),\n",
              " ('smartphones', 'VERB'),\n",
              " ('since', 'ADP'),\n",
              " ('2011', 'NUM'),\n",
              " ('and', 'CONJ'),\n",
              " ('on', 'ADP'),\n",
              " ('tablets', 'NOUN'),\n",
              " ('since', 'ADP'),\n",
              " ('2013.', 'NOUN'),\n",
              " ('Google', 'NOUN'),\n",
              " ('and', 'CONJ'),\n",
              " ('Twitter', 'NOUN'),\n",
              " ('made', 'VERB'),\n",
              " ('a', 'DET'),\n",
              " ('deal', 'NOUN'),\n",
              " ('in', 'ADP'),\n",
              " ('2015', 'NUM'),\n",
              " ('that', 'ADP'),\n",
              " ('gave', 'VERB'),\n",
              " ('Google', 'NOUN'),\n",
              " ('access', 'NOUN'),\n",
              " ('to', 'PRT'),\n",
              " (\"Twitter's\", 'NOUN'),\n",
              " ('firehose.', 'NOUN'),\n",
              " ('Twitter', 'NOUN'),\n",
              " ('is', 'VERB'),\n",
              " ('an', 'DET'),\n",
              " ('online', 'NOUN'),\n",
              " ('news', 'NOUN'),\n",
              " ('and', 'CONJ'),\n",
              " ('social', 'ADJ'),\n",
              " ('networking', 'NOUN'),\n",
              " ('service', 'NOUN'),\n",
              " ('on', 'ADP'),\n",
              " ('which', 'DET'),\n",
              " ('users', 'NOUN'),\n",
              " ('post', 'NOUN'),\n",
              " ('and', 'CONJ'),\n",
              " ('interact', 'NOUN'),\n",
              " ('with', 'ADP'),\n",
              " ('messages', 'VERB'),\n",
              " ('known', 'VERB'),\n",
              " ('as', 'ADP'),\n",
              " ('tweets.', 'NOUN'),\n",
              " ('Before', 'ADP'),\n",
              " ('entering', 'VERB'),\n",
              " ('politics,', 'NOUN'),\n",
              " ('Donald', 'NOUN'),\n",
              " ('Trump', 'NOUN'),\n",
              " ('was', 'VERB'),\n",
              " ('a', 'DET'),\n",
              " ('domineering', 'VERB'),\n",
              " ('businessman', 'NOUN'),\n",
              " ('and', 'CONJ'),\n",
              " ('a', 'DET'),\n",
              " ('television', 'NOUN'),\n",
              " ('personality.', 'NOUN'),\n",
              " ('The', 'DET'),\n",
              " ('2018', 'NUM'),\n",
              " ('FIFA', 'NOUN'),\n",
              " ('World', 'NOUN'),\n",
              " ('Cup', 'NOUN'),\n",
              " ('is', 'VERB'),\n",
              " ('the', 'DET'),\n",
              " ('21st', 'NOUN'),\n",
              " ('FIFA', 'NOUN'),\n",
              " ('World', 'NOUN'),\n",
              " ('Cup,', 'NOUN'),\n",
              " ('an', 'DET'),\n",
              " ('international', 'ADJ'),\n",
              " ('football', 'NOUN'),\n",
              " ('tournament', 'NOUN'),\n",
              " ('contested', 'VERB'),\n",
              " ('once', 'ADV'),\n",
              " ('every', 'DET'),\n",
              " ('four', 'NUM'),\n",
              " ('years.', 'NOUN'),\n",
              " ('This', 'DET'),\n",
              " ('is', 'VERB'),\n",
              " ('the', 'DET'),\n",
              " ('first', 'ADJ'),\n",
              " ('World', 'NOUN'),\n",
              " ('Cup', 'NOUN'),\n",
              " ('to', 'PRT'),\n",
              " ('be', 'VERB'),\n",
              " ('held', 'VERB'),\n",
              " ('in', 'ADP'),\n",
              " ('Eastern', 'NOUN'),\n",
              " ('Europe', 'NOUN'),\n",
              " ('and', 'CONJ'),\n",
              " ('the', 'DET'),\n",
              " ('11th', 'ADJ'),\n",
              " ('time', 'NOUN'),\n",
              " ('that', 'ADP'),\n",
              " ('it', 'PRON'),\n",
              " ('has', 'VERB'),\n",
              " ('been', 'VERB'),\n",
              " ('held', 'VERB'),\n",
              " ('in', 'ADP'),\n",
              " ('Europe.', 'NOUN'),\n",
              " ('Show', 'NOUN'),\n",
              " ('me', 'PRON'),\n",
              " ('the', 'DET'),\n",
              " ('cheapest', 'ADJ'),\n",
              " ('round', 'NOUN'),\n",
              " ('trips', 'NOUN'),\n",
              " ('from', 'ADP'),\n",
              " ('Dallas', 'NOUN'),\n",
              " ('to', 'PRT'),\n",
              " ('Atlanta', 'NOUN'),\n",
              " ('I', 'PRON'),\n",
              " ('would', 'VERB'),\n",
              " ('like', 'ADP'),\n",
              " ('to', 'PRT'),\n",
              " ('see', 'VERB'),\n",
              " ('flights', 'NOUN'),\n",
              " ('from', 'ADP'),\n",
              " ('Denver', 'NOUN'),\n",
              " ('to', 'PRT'),\n",
              " ('Philadelphia.', 'NOUN'),\n",
              " ('Show', 'NOUN'),\n",
              " ('me', 'PRON'),\n",
              " ('the', 'DET'),\n",
              " ('price', 'NOUN'),\n",
              " ('of', 'ADP'),\n",
              " ('the', 'DET'),\n",
              " ('flights', 'NOUN'),\n",
              " ('leaving', 'VERB'),\n",
              " ('Atlanta', 'NOUN'),\n",
              " ('at', 'ADP'),\n",
              " ('about', 'ADP'),\n",
              " ('3', 'NUM'),\n",
              " ('in', 'ADP'),\n",
              " ('the', 'DET'),\n",
              " ('afternoon', 'NOUN'),\n",
              " ('and', 'CONJ'),\n",
              " ('arriving', 'VERB'),\n",
              " ('in', 'ADP'),\n",
              " ('San', 'NOUN'),\n",
              " ('Francisco.', 'NOUN'),\n",
              " ('NASA', 'NOUN'),\n",
              " ('invited', 'VERB'),\n",
              " ('social', 'ADJ'),\n",
              " ('media', 'NOUN'),\n",
              " ('users', 'NOUN'),\n",
              " ('to', 'PRT'),\n",
              " ('experience', 'NOUN'),\n",
              " ('the', 'DET'),\n",
              " ('launch', 'NOUN'),\n",
              " ('of', 'ADP'),\n",
              " ('ICESAT-2', 'NOUN'),\n",
              " ('Satellite.', 'NOUN')]"
            ]
          },
          "metadata": {
            "tags": []
          },
          "execution_count": 171
        }
      ]
    },
    {
      "cell_type": "markdown",
      "metadata": {
        "id": "ft88TY_E59GH"
      },
      "source": [
        "The following unknown words have been correctly identified as noun\n",
        " - ('Google.', 'NOUN'),\n",
        " - ('Android', 'NOUN'),\n",
        " - ('OS', 'NOUN'),\n",
        " - ('worldwide', 'NOUN'),\n",
        " - ('Twitter', 'NOUN'),\n",
        " - ('Google', 'NOUN'),"
      ]
    },
    {
      "cell_type": "markdown",
      "metadata": {
        "id": "YSLIfySDXuC0"
      },
      "source": [
        "### Compare the tagging accuracies of the modifications with the vanilla Viterbi algorithm"
      ]
    },
    {
      "cell_type": "markdown",
      "metadata": {
        "id": "i2OzkQ8n2Djg"
      },
      "source": [
        "Accuracy ::\n",
        "\n",
        "1. Vanilla Viterbi = 90.97\n",
        "2. Modified Viterbi Technique 1 = 94.03\n",
        "3. Modified Viterbi Technique 2 = 95.39"
      ]
    },
    {
      "cell_type": "markdown",
      "metadata": {
        "id": "V69ECS5NXuC6"
      },
      "source": [
        "### List down cases which were incorrectly tagged by original POS tagger and got corrected by your modifications"
      ]
    },
    {
      "cell_type": "markdown",
      "metadata": {
        "id": "oFnbm4Xf6Q_u"
      },
      "source": [
        "The cases which were incorreclty tagged and got corrected after modification are as follows:\n",
        "- The -  'DET'\n",
        "- Contra- 'NOUN'\n",
        "- Honduras- 'NOUN'\n",
        "- Sandinista- 'NOUN'\n",
        "- major - 'ADJ'\n",
        "- offensive - 'NOUN'\n",
        "- Bucking - 'VERB'\n",
        "- apparently - 'ADV'\n",
        "- its - 'PRON'\n",
        "- Eveready - 'NOUN'\n",
        "- what - 'PRON'\n",
        "- *T*-252 - 'X'\n",
        "- complaining - 'VERB',\n",
        "- ended - 'VERB'\n"
      ]
    },
    {
      "cell_type": "markdown",
      "metadata": {
        "id": "E3ounqWi-xjd"
      },
      "source": [
        "### Conclusion :\n",
        "\n",
        " We can see from above that most of the words which were wrongly tagged by Vanilla Viterbi were corrected by Viterbi algorithm backed off by rule based tagger\n",
        "\n",
        " The two techniques used for modification of vanilla viterbi are as follows:\n",
        " - Technique 1 \n",
        "   - We used Transition probability for unknown words.\n",
        "   - This method gave us test accuracy of 94.03% but there were still classiffication which was incorrect.\n",
        "\n",
        " - Technique 2\n",
        "   - We used Viterbi algorithm and bakced it up by rule based tagger.\n",
        "   - This technique gave us the test accuracy of 95.39%"
      ]
    }
  ]
}